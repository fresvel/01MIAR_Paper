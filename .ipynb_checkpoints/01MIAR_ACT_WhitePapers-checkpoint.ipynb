{
 "cells": [
  {
   "cell_type": "markdown",
   "metadata": {},
   "source": [
    "<img src=\"../img/viu_logo.jpg\" width=\"200\">\n",
    "\n",
    "# 01MIAR - Actividad Whitepapers"
   ]
  },
  {
   "cell_type": "markdown",
   "metadata": {},
   "source": [
    "### Introducción:\n"
   ]
  },
  {
   "cell_type": "markdown",
   "metadata": {},
   "source": [
    "### Objetivo\n",
    "\n",
    "- Investigar sobre el estado actual del conocimiento sobre procesamiento de datos en trabajos relacionados con Inteligencia Artificial, en concreto, con el uso de Python y librerías.\n",
    "\n",
    "- El propósito de esta actividad es conocer e indagar en los contenidos definidos en la asignatura Python para la Inteligencia Artificial mediante artículos científicos, siendo\n",
    "estos el marco del conocimiento a investigar."
   ]
  },
  {
   "cell_type": "markdown",
   "metadata": {},
   "source": [
    "### Metodología\n",
    "\n",
    "- Buscar y seleccionar uno o dos artículos científicos publicados en revistas científicas indexadas. Google Académico (Scholar) es un buscador muy utilizado como primera búsqueda, aporta una primera idea sobre qué hay publicado y qué revistas hay sobre el tema.\n",
    "- Crear un notebook de Python que servirá como entrega de la actividad (se entregará el fichero .ipynb).\n",
    "- Desarrollar un resumen y (a ser posible) un ejemplo de lo comentado en el mismo con código en Python.\n",
    "- Separar bien los apartados propuestos con celdas Markdown.\n",
    "- Mantener una estructura limpia, comentando código y secuenciando los apartados con el código correspondiente que resuelva la actividad.\n",
    "- Como criterio de evaluación se tendrá en cuenta el resultado, la consecución del mismo, estilo, comentarios y adecuación. Siempre será tenido en cuenta cualquier detalle técnico avanzado o no visto en clase relacionado con el tema (explicar el porqué y usabilidad).\n",
    "- No está permitido compartir los resultados ni el código en ninguno de los foros.\n",
    "- Revisar los temas 3 y 4 del manual, así como las sesiones sobre Numpy y Pandas para aplicar dichos contenidos.\n",
    "- La/as referencia/as deberán tener un formato adecuado. No importa el estilo, pero los más utilizados son: IEEE, Harvard, science,...\n",
    "- No hay límite de palabras, pero se valorará la capacidad de síntesis.\n",
    "- A parte de las referencias de artículos científicos, se puede aportar otras (no científicas) que complementen el tema."
   ]
  },
  {
   "cell_type": "markdown",
   "metadata": {},
   "source": []
  },
  {
   "cell_type": "markdown",
   "metadata": {},
   "source": []
  },
  {
   "cell_type": "markdown",
   "metadata": {
    "jp-MarkdownHeadingCollapsed": true
   },
   "source": []
  },
  {
   "cell_type": "markdown",
   "metadata": {},
   "source": []
  },
  {
   "cell_type": "markdown",
   "metadata": {},
   "source": []
  }
 ],
 "metadata": {
  "kernelspec": {
   "display_name": "Python 3 (ipykernel)",
   "language": "python",
   "name": "python3"
  },
  "language_info": {
   "codemirror_mode": {
    "name": "ipython",
    "version": 3
   },
   "file_extension": ".py",
   "mimetype": "text/x-python",
   "name": "python",
   "nbconvert_exporter": "python",
   "pygments_lexer": "ipython3",
   "version": "3.12.9"
  }
 },
 "nbformat": 4,
 "nbformat_minor": 4
}
